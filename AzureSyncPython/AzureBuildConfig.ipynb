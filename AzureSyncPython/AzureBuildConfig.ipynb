{
 "cells": [
  {
   "cell_type": "code",
   "execution_count": 1,
   "metadata": {
    "collapsed": true
   },
   "outputs": [],
   "source": [
    "import urllib2\n",
    "from xml.dom.minidom import parse, parseString\n",
    "import subprocess\n",
    "import pandas as pd\n"
   ]
  },
  {
   "cell_type": "code",
   "execution_count": 3,
   "metadata": {
    "collapsed": false
   },
   "outputs": [
    {
     "name": "stdout",
     "output_type": "stream",
     "text": [
      "Next marker\t&marker=2!148!MDAwMDY1IUVBLTE0MTA1MTYyL0U0MjJDNUVFLUUyMDEtNDVBMy04NjczLTlCMUNGQkU5OTM2Qi9oLzIwMTYtMDktMTkuY3N2ITAwMDAyOCE5OTk5LTEyLTMxVDIzOjU5OjU5Ljk5OTk5OTlaIQ--\n"
     ]
    },
    {
     "ename": "TypeError",
     "evalue": "cannot concatenate 'str' and 'NoneType' objects",
     "output_type": "error",
     "traceback": [
      "\u001b[0;31m---------------------------------------------------------------------------\u001b[0m",
      "\u001b[0;31mTypeError\u001b[0m                                 Traceback (most recent call last)",
      "\u001b[0;32m<ipython-input-3-f9a394e740a6>\u001b[0m in \u001b[0;36m<module>\u001b[0;34m()\u001b[0m\n\u001b[1;32m      9\u001b[0m     \u001b[0mdom\u001b[0m \u001b[0;34m=\u001b[0m \u001b[0mparse\u001b[0m\u001b[0;34m(\u001b[0m\u001b[0murl\u001b[0m\u001b[0;34m)\u001b[0m\u001b[0;34m\u001b[0m\u001b[0m\n\u001b[1;32m     10\u001b[0m     \u001b[0;32mtry\u001b[0m\u001b[0;34m:\u001b[0m\u001b[0;34m\u001b[0m\u001b[0m\n\u001b[0;32m---> 11\u001b[0;31m         \u001b[0mmarker\u001b[0m \u001b[0;34m=\u001b[0m \u001b[0;34m'&marker='\u001b[0m \u001b[0;34m+\u001b[0m \u001b[0mdom\u001b[0m\u001b[0;34m.\u001b[0m\u001b[0mchildNodes\u001b[0m\u001b[0;34m[\u001b[0m\u001b[0;36m0\u001b[0m\u001b[0;34m]\u001b[0m\u001b[0;34m.\u001b[0m\u001b[0mchildNodes\u001b[0m\u001b[0;34m[\u001b[0m\u001b[0;36m1\u001b[0m\u001b[0;34m]\u001b[0m\u001b[0;34m.\u001b[0m\u001b[0mfirstChild\u001b[0m\u001b[0;34m.\u001b[0m\u001b[0mnodeValue\u001b[0m\u001b[0;34m\u001b[0m\u001b[0m\n\u001b[0m\u001b[1;32m     12\u001b[0m         \u001b[0;32mprint\u001b[0m \u001b[0;34m'Next marker\\t'\u001b[0m \u001b[0;34m+\u001b[0m \u001b[0mmarker\u001b[0m\u001b[0;34m\u001b[0m\u001b[0m\n\u001b[1;32m     13\u001b[0m     \u001b[0;32mexcept\u001b[0m \u001b[0mAttributeError\u001b[0m\u001b[0;34m:\u001b[0m\u001b[0;34m\u001b[0m\u001b[0m\n",
      "\u001b[0;31mTypeError\u001b[0m: cannot concatenate 'str' and 'NoneType' objects"
     ]
    }
   ],
   "source": [
    "tsv_file = open(\"/home/matteus/Github/AzureSyncPython/data/list.tsv\",\"w\")\n",
    "tsv_file.write(\"TsvHttpData-1.0\\n\")\n",
    "eof = False\n",
    "base_url = 'https://energyiddev.blob.core.windows.net/jouleboulevard2?restype=container&comp=list'\n",
    "marker = ''\n",
    "\n",
    "while not eof:\n",
    "    url = urllib2.urlopen(base_url + marker)\n",
    "    dom = parse(url)\n",
    "    try:\n",
    "        marker = '&marker=' + dom.childNodes[0].childNodes[1].firstChild.nodeValue\n",
    "        print 'Next marker\\t' + marker\n",
    "    except AttributeError:\n",
    "        print 'EOF reached, marker is None'\n",
    "        eof = True\n",
    "    \n",
    "    \n",
    "    for elem in dom.getElementsByTagName(\"Blob\"):\n",
    "        url = elem.childNodes[1].firstChild.nodeValue\n",
    "        md5 = elem.childNodes[2].childNodes[6].firstChild.nodeValue\n",
    "        size = elem.childNodes[2].childNodes[2].firstChild.nodeValue\n",
    "        tsv_file.write(url + \"\\t\" + size + \"\\t\" + md5 + \"\\n\")\n",
    "        \n",
    "print \"end\"\n",
    "tsv_file.close()"
   ]
  },
  {
   "cell_type": "code",
   "execution_count": 5,
   "metadata": {
    "collapsed": false
   },
   "outputs": [
    {
     "name": "stdout",
     "output_type": "stream",
     "text": [
      "Next marker\t&marker=2!148!MDAwMDY1IUVBLTE0MTA1MTYyL0U0MjJDNUVFLUUyMDEtNDVBMy04NjczLTlCMUNGQkU5OTM2Qi9oLzIwMTYtMDktMTkuY3N2ITAwMDAyOCE5OTk5LTEyLTMxVDIzOjU5OjU5Ljk5OTk5OTlaIQ--\n"
     ]
    },
    {
     "ename": "TypeError",
     "evalue": "cannot concatenate 'str' and 'NoneType' objects",
     "output_type": "error",
     "traceback": [
      "\u001b[0;31m---------------------------------------------------------------------------\u001b[0m",
      "\u001b[0;31mTypeError\u001b[0m                                 Traceback (most recent call last)",
      "\u001b[0;32m<ipython-input-5-28db07c88a9d>\u001b[0m in \u001b[0;36m<module>\u001b[0;34m()\u001b[0m\n\u001b[1;32m      6\u001b[0m \u001b[0;32mwhile\u001b[0m \u001b[0;32mnot\u001b[0m \u001b[0meof\u001b[0m\u001b[0;34m:\u001b[0m\u001b[0;34m\u001b[0m\u001b[0m\n\u001b[1;32m      7\u001b[0m     \u001b[0;32mtry\u001b[0m\u001b[0;34m:\u001b[0m\u001b[0;34m\u001b[0m\u001b[0m\n\u001b[0;32m----> 8\u001b[0;31m         \u001b[0mmarker\u001b[0m \u001b[0;34m=\u001b[0m \u001b[0;34m'&marker='\u001b[0m \u001b[0;34m+\u001b[0m \u001b[0mdom\u001b[0m\u001b[0;34m.\u001b[0m\u001b[0mchildNodes\u001b[0m\u001b[0;34m[\u001b[0m\u001b[0;36m0\u001b[0m\u001b[0;34m]\u001b[0m\u001b[0;34m.\u001b[0m\u001b[0mchildNodes\u001b[0m\u001b[0;34m[\u001b[0m\u001b[0;36m1\u001b[0m\u001b[0;34m]\u001b[0m\u001b[0;34m.\u001b[0m\u001b[0mfirstChild\u001b[0m\u001b[0;34m.\u001b[0m\u001b[0mnodeValue\u001b[0m\u001b[0;34m\u001b[0m\u001b[0m\n\u001b[0m\u001b[1;32m      9\u001b[0m         \u001b[0;32mprint\u001b[0m \u001b[0;34m'Next marker\\t'\u001b[0m \u001b[0;34m+\u001b[0m \u001b[0mmarker\u001b[0m\u001b[0;34m\u001b[0m\u001b[0m\n\u001b[1;32m     10\u001b[0m     \u001b[0;32mexcept\u001b[0m \u001b[0mAttributeError\u001b[0m\u001b[0;34m:\u001b[0m\u001b[0;34m\u001b[0m\u001b[0m\n",
      "\u001b[0;31mTypeError\u001b[0m: cannot concatenate 'str' and 'NoneType' objects"
     ]
    }
   ],
   "source": [
    "eof = False\n",
    "base_url = 'https://energyiddev.blob.core.windows.net/jouleboulevard2?restype=container&comp=list'\n",
    "marker = ''\n",
    "url = urllib2.urlopen(base_url + marker)\n",
    "dom = parse(url)\n",
    "while not eof:    \n",
    "    try:\n",
    "        marker = '&marker=' + dom.childNodes[0].childNodes[1].firstChild.nodeValue\n",
    "        print 'Next marker\\t' + marker\n",
    "    except AttributeError:\n",
    "        print 'EOF reached, marker is None'\n",
    "        eof = True\n",
    "    url = urllib2.urlopen(base_url + marker)\n",
    "    dom = parse(url)"
   ]
  },
  {
   "cell_type": "code",
   "execution_count": 11,
   "metadata": {
    "collapsed": false
   },
   "outputs": [
    {
     "name": "stdout",
     "output_type": "stream",
     "text": [
      "New marker:\t2!152!MDAwMDY5IUVBLTE0MTA2MDE1L0UwQzlBNDY1LUJEMDQtNDIzQy04QzExLTI0RTM2RkNDNjA0Ri8xNW1pbi8yMDE2LTEyLTE3LmNzdiEwMDAwMjghOTk5OS0xMi0zMVQyMzo1OTo1OS45OTk5OTk5WiE-\n",
      "New marker:\t2!148!MDAwMDY3IUVBLTE0MTA2MTA5L0U1Mzg2NTI4LURGNTYtNDc1Qy04QzA4LTlBQkQ4QUVDNjRDMi9taW4vMjAxNS0xMC0wNS5jc3YhMDAwMDI4ITk5OTktMTItMzFUMjM6NTk6NTkuOTk5OTk5OVoh\n",
      "New marker:\t2!148!MDAwMDY1IUVBLTE0MTA2MTEzLzFBMDdGNDZFLTVDRDctNDZCRC04MDQyLTRDNzhFOTA2RjQxQi9oLzIwMTUtMTAtMjUuY3N2ITAwMDAyOCE5OTk5LTEyLTMxVDIzOjU5OjU5Ljk5OTk5OTlaIQ--\n",
      "New marker:\t2!148!MDAwMDY3IUVBLTE0MTA2MTI5Lzc2MjhCQjk4LUE2QUEtNDdFOS1CNTE2LTM3NENEMjkxNURDQS9taW4vMjAxNy0wMS0yNy5jc3YhMDAwMDI4ITk5OTktMTItMzFUMjM6NTk6NTkuOTk5OTk5OVoh\n",
      "New marker:\t2!148!MDAwMDY1IUVBLTE0MTA2MTMwLzY2MkU3RkY3LUE4RTctNDgxRS04MzhCLTZCMTMyMDBENTE1RS9oLzIwMTYtMDUtMDYuY3N2ITAwMDAyOCE5OTk5LTEyLTMxVDIzOjU5OjU5Ljk5OTk5OTlaIQ--\n",
      "New marker:\t2!148!MDAwMDY3IUVBLTE0MTIzMjQ1LzgwMkJCRUNBLTNEQkUtNEJDNi04NjlDLTEzQzhBMTM3NUU3OC9taW4vMjAxNy0wMi0wNS5jc3YhMDAwMDI4ITk5OTktMTItMzFUMjM6NTk6NTkuOTk5OTk5OVoh\n",
      "Marker is None\n",
      "error\n",
      "error\n",
      "end\n"
     ]
    }
   ],
   "source": [
    "tsv_file = open(\"/home/matteus/Github/AzureSyncPython/data/list.tsv\",\"w\")\n",
    "tsv_file.write(\"TsvHttpData-1.0\\n\")\n",
    "eof = False\n",
    "url = urllib2.urlopen('https://energyiddev.blob.core.windows.net/jouleboulevard2?restype=container&comp=list')\n",
    "dom = parse(url)\n",
    "marker = dom.childNodes[0].childNodes[1].firstChild.nodeValue\n",
    "while True:\n",
    "    for elem in dom.getElementsByTagName(\"Blob\"):\n",
    "        try:\n",
    "            file_url = elem.childNodes[1].firstChild.nodeValue\n",
    "            md5 = elem.childNodes[2].childNodes[6].firstChild.nodeValue\n",
    "            size = elem.childNodes[2].childNodes[2].firstChild.nodeValue\n",
    "            tsv_file.write(file_url + \"\\t\" + size + \"\\t\" + md5 + \"\\n\")\n",
    "        except AttributeError:\n",
    "            print 'error'\n",
    "            \n",
    "    if not eof:\n",
    "        url = urllib2.urlopen('https://energyiddev.blob.core.windows.net/jouleboulevard2?restype=container&comp=list&marker='+marker)\n",
    "        dom = parse(url)\n",
    "        try:\n",
    "            marker = dom.childNodes[0].childNodes[2].firstChild.nodeValue\n",
    "            print 'New marker:\\t' + str(marker)\n",
    "        except AttributeError:\n",
    "            print \"Marker is None\"\n",
    "            eof = True\n",
    "    else:\n",
    "        break\n",
    "        \n",
    "print \"end\"\n",
    "tsv_file.close()"
   ]
  },
  {
   "cell_type": "code",
   "execution_count": null,
   "metadata": {
    "collapsed": true
   },
   "outputs": [],
   "source": []
  }
 ],
 "metadata": {
  "kernelspec": {
   "display_name": "Python 2",
   "language": "python",
   "name": "python2"
  },
  "language_info": {
   "codemirror_mode": {
    "name": "ipython",
    "version": 2
   },
   "file_extension": ".py",
   "mimetype": "text/x-python",
   "name": "python",
   "nbconvert_exporter": "python",
   "pygments_lexer": "ipython2",
   "version": "2.7.12"
  }
 },
 "nbformat": 4,
 "nbformat_minor": 2
}
