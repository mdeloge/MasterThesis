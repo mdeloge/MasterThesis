{
 "cells": [
  {
   "cell_type": "code",
   "execution_count": 1,
   "metadata": {
    "collapsed": true,
    "deletable": true,
    "editable": true
   },
   "outputs": [],
   "source": [
    "import urllib2\n",
    "from xml.dom.minidom import parse, parseString"
   ]
  },
  {
   "cell_type": "code",
   "execution_count": 2,
   "metadata": {
    "collapsed": false,
    "deletable": true,
    "editable": true
   },
   "outputs": [
    {
     "name": "stdout",
     "output_type": "stream",
     "text": [
      "<xml.dom.minidom.Document instance at 0x7f62f435c878>\n"
     ]
    }
   ],
   "source": [
    "u1=urllib2.urlopen('https://energyiddev.blob.core.windows.net/jouleboulevard2?restype=container&comp=list')\n",
    "dom=parse(u1)\n",
    "print dom"
   ]
  },
  {
   "cell_type": "code",
   "execution_count": 3,
   "metadata": {
    "collapsed": false,
    "deletable": true,
    "editable": true
   },
   "outputs": [
    {
     "data": {
      "text/plain": [
       "u'2!148!MDAwMDY1IUVBLTE0MTA1MTYyL0U0MjJDNUVFLUUyMDEtNDVBMy04NjczLTlCMUNGQkU5OTM2Qi9oLzIwMTYtMDktMTkuY3N2ITAwMDAyOCE5OTk5LTEyLTMxVDIzOjU5OjU5Ljk5OTk5OTlaIQ--'"
      ]
     },
     "execution_count": 3,
     "metadata": {},
     "output_type": "execute_result"
    }
   ],
   "source": [
    "dom.childNodes[0].childNodes[1].firstChild.nodeValue"
   ]
  },
  {
   "cell_type": "code",
   "execution_count": 5,
   "metadata": {
    "collapsed": false,
    "deletable": true,
    "editable": true
   },
   "outputs": [
    {
     "name": "stdout",
     "output_type": "stream",
     "text": [
      "2!148!MDAwMDY1IUVBLTE0MTA1MTYyL0U0MjJDNUVFLUUyMDEtNDVBMy04NjczLTlCMUNGQkU5OTM2Qi9oLzIwMTYtMDktMTkuY3N2ITAwMDAyOCE5OTk5LTEyLTMxVDIzOjU5OjU5Ljk5OTk5OTlaIQ--\n",
      "2!152!MDAwMDY5IUVBLTE0MTA2MDE1L0UwQzlBNDY1LUJEMDQtNDIzQy04QzExLTI0RTM2RkNDNjA0Ri8xNW1pbi8yMDE2LTEyLTE3LmNzdiEwMDAwMjghOTk5OS0xMi0zMVQyMzo1OTo1OS45OTk5OTk5WiE-\n",
      "2!148!MDAwMDY3IUVBLTE0MTA2MDUxLzg2NjhCNDI0LUJDMEItNDNCMy1CNTNFLUMwNjI0MzRFQkFDQi9taW4vMjAxNS0wOC0zMC5jc3YhMDAwMDI4ITk5OTktMTItMzFUMjM6NTk6NTkuOTk5OTk5OVoh\n",
      "2!152!MDAwMDY5IUVBLTE0MTA2MDg1LzJGOEJCQ0Y0LTc2REYtNEU0MS05NzJCLTI1NzI3Mzg4OUJCRS8xNW1pbi8yMDE2LTEwLTE4LmNzdiEwMDAwMjghOTk5OS0xMi0zMVQyMzo1OTo1OS45OTk5OTk5WiE-\n",
      "2!152!MDAwMDY5IUVBLTE0MTA2MTA5L0U1Mzg2NTI4LURGNTYtNDc1Qy04QzA4LTlBQkQ4QUVDNjRDMi8xNW1pbi8yMDE2LTA1LTMxLmNzdiEwMDAwMjghOTk5OS0xMi0zMVQyMzo1OTo1OS45OTk5OTk5WiE-\n",
      "2!148!MDAwMDY3IUVBLTE0MTA2MTExLzVDRUMwNzIxLTI4NTgtNEJBNC1CNzA1LUU1M0M1NDBFMTAxNi9taW4vMjAxNy0wMi0xNi5jc3YhMDAwMDI4ITk5OTktMTItMzFUMjM6NTk6NTkuOTk5OTk5OVoh\n",
      "2!148!MDAwMDY1IUVBLTE0MTA2MTI5Lzc2MjhCQjk4LUE2QUEtNDdFOS1CNTE2LTM3NENEMjkxNURDQS9oLzIwMTctMDMtMTEuY3N2ITAwMDAyOCE5OTk5LTEyLTMxVDIzOjU5OjU5Ljk5OTk5OTlaIQ--\n",
      "2!152!MDAwMDY5IUVBLTE0MTA2MTMwLzY2MkU3RkY3LUE4RTctNDgxRS04MzhCLTZCMTMyMDBENTE1RS8xNW1pbi8yMDE1LTExLTIyLmNzdiEwMDAwMjghOTk5OS0xMi0zMVQyMzo1OTo1OS45OTk5OTk5WiE-\n",
      "2!148!MDAwMDY1IUVBLTE0MTIzMjQ1LzNGMUQ1OUYzLTMyRjAtNDNEOS1BMkU5LTY5REFDRDREN0E4RC9oLzIwMTctMDEtMDcuY3N2ITAwMDAyOCE5OTk5LTEyLTMxVDIzOjU5OjU5Ljk5OTk5OTlaIQ--\n",
      "end of the line\n",
      "end\n"
     ]
    }
   ],
   "source": [
    "tsv_file = open(\"list.tsv\",\"w\")\n",
    "tsv_file.write(\"TsvHttpData-1.0\\n\")\n",
    "eof = False\n",
    "url = urllib2.urlopen('https://energyiddev.blob.core.windows.net/jouleboulevard2?restype=container&comp=list')\n",
    "dom = parse(url)\n",
    "marker = dom.childNodes[0].childNodes[1].firstChild.nodeValue\n",
    "while not eof:\n",
    "    for elem in dom.getElementsByTagName(\"Blob\"):\n",
    "        url = elem.childNodes[1].firstChild.nodeValue\n",
    "        md5 = elem.childNodes[2].childNodes[6].firstChild.nodeValue\n",
    "        size = elem.childNodes[2].childNodes[2].firstChild.nodeValue\n",
    "        tsv_file.write(url + \"\\t\" + size + \"\\t\" + md5 + \"\\n\")\n",
    "    if marker == None:\n",
    "        eof = True\n",
    "    else:\n",
    "        print marker\n",
    "        url = urllib2.urlopen('https://energyiddev.blob.core.windows.net/jouleboulevard2?restype=container&comp=list&marker='+marker)\n",
    "        dom = parse(url)\n",
    "        try:\n",
    "            marker = dom.childNodes[0].childNodes[2].firstChild.nodeValue\n",
    "        except AttributeError:\n",
    "            print \"end of the line\"\n",
    "            break\n",
    "        \n",
    "print \"end\"\n",
    "tsv_file.close()"
   ]
  },
  {
   "cell_type": "code",
   "execution_count": null,
   "metadata": {
    "collapsed": false,
    "deletable": true,
    "editable": true
   },
   "outputs": [],
   "source": [
    "tsv_file = open(\"list.tsv\",\"w\")\n",
    "tsv_file.write(\"test\\n\")\n",
    "tsv_file.write(\"test\\n\")\n",
    "tsv_file.write(\"test\\n\")\n",
    "tsv_file.write(\"test\\n\")\n",
    "tsv_file.close()"
   ]
  },
  {
   "cell_type": "code",
   "execution_count": null,
   "metadata": {
    "collapsed": true,
    "deletable": true,
    "editable": true
   },
   "outputs": [],
   "source": []
  }
 ],
 "metadata": {
  "kernelspec": {
   "display_name": "Python 2",
   "language": "python",
   "name": "python2"
  },
  "language_info": {
   "codemirror_mode": {
    "name": "ipython",
    "version": 2
   },
   "file_extension": ".py",
   "mimetype": "text/x-python",
   "name": "python",
   "nbconvert_exporter": "python",
   "pygments_lexer": "ipython2",
   "version": "2.7.12"
  }
 },
 "nbformat": 4,
 "nbformat_minor": 2
}
