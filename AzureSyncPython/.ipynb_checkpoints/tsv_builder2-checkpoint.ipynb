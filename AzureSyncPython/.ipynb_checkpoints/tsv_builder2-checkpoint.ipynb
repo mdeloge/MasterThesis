{
 "cells": [
  {
   "cell_type": "code",
   "execution_count": 7,
   "metadata": {
    "collapsed": true
   },
   "outputs": [],
   "source": [
    "import urllib2\n",
    "from xml.dom.minidom import parse, parseString"
   ]
  },
  {
   "cell_type": "code",
   "execution_count": 8,
   "metadata": {
    "collapsed": false
   },
   "outputs": [
    {
     "name": "stdout",
     "output_type": "stream",
     "text": [
      "<xml.dom.minidom.Document instance at 0x7fe03fc8cc20>\n"
     ]
    }
   ],
   "source": [
    "u1=urllib2.urlopen('https://energyiddev.blob.core.windows.net/jouleboulevard2?restype=container&comp=list')\n",
    "dom=parse(u1)\n",
    "print dom"
   ]
  },
  {
   "cell_type": "code",
   "execution_count": 9,
   "metadata": {
    "collapsed": false
   },
   "outputs": [
    {
     "data": {
      "text/plain": [
       "u'2!148!MDAwMDY1IUVBLTE0MTA1MTYyL0U0MjJDNUVFLUUyMDEtNDVBMy04NjczLTlCMUNGQkU5OTM2Qi9oLzIwMTYtMDktMTkuY3N2ITAwMDAyOCE5OTk5LTEyLTMxVDIzOjU5OjU5Ljk5OTk5OTlaIQ--'"
      ]
     },
     "execution_count": 9,
     "metadata": {},
     "output_type": "execute_result"
    }
   ],
   "source": [
    "dom.childNodes[0].childNodes[1].firstChild.nodeValue"
   ]
  },
  {
   "cell_type": "code",
   "execution_count": 17,
   "metadata": {
    "collapsed": false
   },
   "outputs": [
    {
     "ename": "SyntaxError",
     "evalue": "invalid syntax (<ipython-input-17-fd852b38e1cf>, line 10)",
     "output_type": "error",
     "traceback": [
      "\u001b[0;36m  File \u001b[0;32m\"<ipython-input-17-fd852b38e1cf>\"\u001b[0;36m, line \u001b[0;32m10\u001b[0m\n\u001b[0;31m    if marker == None:\u001b[0m\n\u001b[0m                     ^\u001b[0m\n\u001b[0;31mSyntaxError\u001b[0m\u001b[0;31m:\u001b[0m invalid syntax\n"
     ]
    }
   ],
   "source": [
    "eof = False\n",
    "url = urllib2.urlopen('https://energyiddev.blob.core.windows.net/jouleboulevard2?restype=container&comp=list')\n",
    "dom = parse(url)\n",
    "while not eof:\n",
    "    for elem in dom.getElementsByTagName(\"Blob\"):\n",
    "        url = elem.childNodes[1].firstChild.nodeValue\n",
    "        md5 = elem.childNodes[2].childNodes[6].firstChild.nodeValue\n",
    "        size = elem.childNodes[2].childNodes[2].firstChild.nodeValue\n",
    "    marker = dom.childNodes[0].childNodes[1].firstChild.nodeValue\n",
    "    if marker == None:\n",
    "        eof = True\n",
    "    else:\n",
    "        url = urllib2.urlopen('https://energyiddev.blob.core.windows.net/jouleboulevard2?restype=container&comp=list&marker='+marker)\n",
    "        print marker\n",
    "        dom = parse(url)\n",
    "print \"end\""
   ]
  },
  {
   "cell_type": "code",
   "execution_count": 10,
   "metadata": {
    "collapsed": false
   },
   "outputs": [
    {
     "name": "stdout",
     "output_type": "stream",
     "text": [
      "3355\n",
      "5856\n",
      "5856\n",
      "5856\n",
      "5856\n",
      "5856\n",
      "5856\n",
      "5856\n",
      "5984\n",
      "6071\n",
      "6088\n",
      "2!148!MDAwMDY1IUVBLTE0MTA1MTYyL0U0MjJDNUVFLUUyMDEtNDVBMy04NjczLTlCMUNGQkU5OTM2Qi9oLzIwMTYtMDktMTkuY3N2ITAwMDAyOCE5OTk5LTEyLTMxVDIzOjU5OjU5Ljk5OTk5OTlaIQ--\n",
      "1493\n",
      "1472\n",
      "1490\n",
      "1493\n",
      "1496\n",
      "1505\n",
      "1499\n",
      "1498\n",
      "1478\n",
      "1494\n",
      "1496\n",
      "None\n"
     ]
    }
   ],
   "source": [
    "marker = dom.childNodes[0].childNodes[1].firstChild.nodeValue\n",
    "while marker != None:\n",
    "    i = 0\n",
    "    for elem in dom.getElementsByTagName(\"Blob\"):\n",
    "        if i > 10:\n",
    "            break\n",
    "        i += 1\n",
    "        url = elem.childNodes[1].firstChild.nodeValue\n",
    "        md5 = elem.childNodes[2].childNodes[6].firstChild.nodeValue\n",
    "        size = elem.childNodes[2].childNodes[2].firstChild.nodeValue\n",
    "        print size\n",
    "    marker = dom.childNodes[0].childNodes[1].firstChild.nodeValue\n",
    "    if marker != None:\n",
    "        u1=urllib2.urlopen('https://energyiddev.blob.core.windows.net/jouleboulevard2?restype=container&comp=list&marker=' + marker)\n",
    "        dom=parse(u1)\n",
    "    print marker\n",
    "    "
   ]
  },
  {
   "cell_type": "code",
   "execution_count": null,
   "metadata": {
    "collapsed": true
   },
   "outputs": [],
   "source": []
  }
 ],
 "metadata": {
  "kernelspec": {
   "display_name": "Python 2",
   "language": "python",
   "name": "python2"
  },
  "language_info": {
   "codemirror_mode": {
    "name": "ipython",
    "version": 2
   },
   "file_extension": ".py",
   "mimetype": "text/x-python",
   "name": "python",
   "nbconvert_exporter": "python",
   "pygments_lexer": "ipython2",
   "version": "2.7.12"
  }
 },
 "nbformat": 4,
 "nbformat_minor": 2
}
