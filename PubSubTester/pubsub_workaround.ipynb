{
 "cells": [
  {
   "cell_type": "code",
   "execution_count": 19,
   "metadata": {
    "collapsed": false
   },
   "outputs": [],
   "source": [
    "import requests\n",
    "import datetime\n",
    "import random\n",
    "import time"
   ]
  },
  {
   "cell_type": "code",
   "execution_count": 20,
   "metadata": {
    "collapsed": false
   },
   "outputs": [
    {
     "name": "stdout",
     "output_type": "stream",
     "text": [
      "(401, 'Unauthorized')\n",
      "(401, 'Unauthorized')\n",
      "(401, 'Unauthorized')\n",
      "(401, 'Unauthorized')\n",
      "(401, 'Unauthorized')\n",
      "(401, 'Unauthorized')\n",
      "(401, 'Unauthorized')\n",
      "(401, 'Unauthorized')\n",
      "(401, 'Unauthorized')\n",
      "(401, 'Unauthorized')\n"
     ]
    }
   ],
   "source": [
    "for i in range(10):\n",
    "    timestamp = str(datetime.datetime.utcnow())         #timestamp in UTC\n",
    "    consumption = str(1000.0 * random.random())         #consumption value\n",
    "    meterId = '52196594-2C86-41BC-AFC0-8F986B9C551F'        #meterID\n",
    "    line = timestamp + ',' + consumption + ',' + meterId\n",
    "    \n",
    "    topic_url = \"https://pubsub.googleapis.com/v1/projects/lkn-muntstraat/topics/dataflow_data:publish\"\n",
    "    \n",
    "    r = requests.post(topic_url, data=line)\n",
    "    print(r.status_code, r.reason)"
   ]
  },
  {
   "cell_type": "code",
   "execution_count": 21,
   "metadata": {
    "collapsed": false
   },
   "outputs": [],
   "source": [
    "client_id = r'105005645889083469333'\n",
    "client_secret =r'MIIEvgIBADANBgkqhkiG9w0BAQEFAASCBKgwggSkAgEAAoIBAQCrCukK7wl3LADN\\nIwcHR13Ahw7RHcd1nlSUmWwCfnTfExpQUP0J6TtvRXHqJe0Q6WCLf5F4+Cs6Kgt3\\nQs3vCDR4a185je9iH5ReLPMvZ16p1M66hGUEaQVJ40H7EqW7fya7i65JWW7AYtBR\\nd0OQCUlyWmdiRAvAjm8oAuxMFLZ0nqb4pEAr+r7AU427AnitLmJGu25kcZu6DthB\\nPLfoDZY70eAyvlEEioI7tHqaMU6ykYYAmlpJ+tzJYrKBOPSt+JdFdJ8/YKbJYEqn\\nk2fpY0y95/u6sEq2KdltjS5eiiv2k0mhCgMgMKYMgM8qzCTUXVx/R3Smd8szuYGj\\n65sZOOVzAgMBAAECggEAUOU0Gyu6+lYheuQaKuMiADDgXR8MeyCLOEznvLY6aFcM\\nlvf29X0N0y6xFeEiImF+e/u1vdUB/Nxt19YMuATVbC68NuheU7ZD4da4na7yIri3\\nnZeIf3F8QtntFuZW5DrbAtCpeZ+Gtg8GH8Gcfr8lsaP4SY2NUWEMSYw4XjNdqAGr\\nUw98Dp0nGs/1fncDRA3tLof8qmiuFCcLjWGVUIQ5bJlHVHBMAgGAWXMMkqwICohw\\nzyF6VfEpXWrEJhL68o6C+a5C4zgKccGHiAnzs1VewO96BXjAnFmDmctgjKeSgzWt\\n3GISGKTjkTCUWNDrSKhdJRLR4kR23AGqJoEzTPjGIQKBgQDV1IWQNgxW/9ulyLEc\\nNFS6O8hjWJO2QE5RyK/mBnNuKpt9BZrZ/+3F84UDiD1ETP3hIccOOWSBxFx01WIg\\nQFj+w1t8Ity1DMHzJzNbHJk6KbdyFr5fUScfVtNnX5p4oyXrhcJDC7Yn6++C1TXW\\noMXf8RZS6ZGj3ZrtZqfAwZL7DQKBgQDMxjT2FHJwJLV7zEnhc6dU4tVZlmC3jEa4\\n2RtARZ/Btpqe7NpAln0y/aj07NCzwPwcZmvhdfKQ8mx521pW+dGAUultf1YkVXqN\\neF48Ml4odomUZwko9y4BUjuf4V4djGFuvWyQyEWIjLHkfS/9lFNZsKY4ydR4RaFA\\n8+3o9alCfwKBgH872c2Zm3YZAEWBSYGS0eeOswoKJrqHQRMA60lgBUdEKwkVULLu\\nyjjDUh5r7qi5d0eCpcMc+2ULxkfuwFiYcVwGOmV/CPzh/nYEmVZZigNF11YXmmd1\\nDmZjb59PD8dArMub55+lVFok1XtwCn0PZS5/cd0cBgEPV6RzNNZJWH/xAoGBAMNn\\nWF6CQHm27d+Gn/GddU3RbxmgIAbGuy3lLtX0GnC1mXKSPepoMGyaFcIywSzmuS04\\npzVsYd3jF5RotxpMJZi4hbtRSZg+YUXiWLpErgkapEqSz/DhfmsQV4lHe5HixY7w\\n/0phccjNyWtp8oOeKLNrmBKUtkVW3HuoyZwF4FBtAoGBAMJ6NMUms26wJ5knRmhI\\nIUmVOZlGaRvgxbqmLTW0hOcFbL90MsVJtOf4DA7ZYSCvxqWPqeytfFKKmWKlIWaM\\ngmHDZwyTthgaak/kWFvc0ehXBsow+FAo+CIIGDZRWM7GmCvRRfHu2OREWM3N6izQ\\nr5jTc0WBMDenz/FzPKbJ6Jx4\\n'"
   ]
  },
  {
   "cell_type": "code",
   "execution_count": 22,
   "metadata": {
    "collapsed": false
   },
   "outputs": [],
   "source": [
    "scope = r'https://www.googleapis.com/auth/cloud-platform'"
   ]
  },
  {
   "cell_type": "code",
   "execution_count": 23,
   "metadata": {
    "collapsed": false
   },
   "outputs": [
    {
     "ename": "NameError",
     "evalue": "name 'OAuth2Session' is not defined",
     "output_type": "error",
     "traceback": [
      "\u001b[0;31m---------------------------------------------------------------------------\u001b[0m",
      "\u001b[0;31mNameError\u001b[0m                                 Traceback (most recent call last)",
      "\u001b[0;32m<ipython-input-23-311612402eea>\u001b[0m in \u001b[0;36m<module>\u001b[0;34m()\u001b[0m\n\u001b[0;32m----> 1\u001b[0;31m \u001b[0moauth\u001b[0m \u001b[0;34m=\u001b[0m \u001b[0mOAuth2Session\u001b[0m\u001b[0;34m(\u001b[0m\u001b[0mclient_id\u001b[0m\u001b[0;34m,\u001b[0m \u001b[0mscope\u001b[0m\u001b[0;34m=\u001b[0m\u001b[0mscope\u001b[0m\u001b[0;34m)\u001b[0m\u001b[0;34m\u001b[0m\u001b[0m\n\u001b[0m",
      "\u001b[0;31mNameError\u001b[0m: name 'OAuth2Session' is not defined"
     ]
    }
   ],
   "source": [
    "oauth = OAuth2Session(client_id, scope=scope)"
   ]
  },
  {
   "cell_type": "code",
   "execution_count": null,
   "metadata": {
    "collapsed": true
   },
   "outputs": [],
   "source": []
  }
 ],
 "metadata": {
  "kernelspec": {
   "display_name": "Python 2",
   "language": "python",
   "name": "python2"
  },
  "language_info": {
   "codemirror_mode": {
    "name": "ipython",
    "version": 2
   },
   "file_extension": ".py",
   "mimetype": "text/x-python",
   "name": "python",
   "nbconvert_exporter": "python",
   "pygments_lexer": "ipython2",
   "version": "2.7.13"
  }
 },
 "nbformat": 4,
 "nbformat_minor": 2
}
