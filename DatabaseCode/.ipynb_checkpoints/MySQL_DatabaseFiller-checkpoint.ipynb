{
 "cells": [
  {
   "cell_type": "code",
   "execution_count": null,
   "metadata": {
    "collapsed": true
   },
   "outputs": [],
   "source": [
    "import mysql.connector\n",
    "import pandas as pd\n",
    "import numpy as np\n",
    "import datetime as dt\n",
    "import random\n",
    "from tqdm import tqdm"
   ]
  },
  {
   "cell_type": "code",
   "execution_count": null,
   "metadata": {
    "collapsed": false
   },
   "outputs": [],
   "source": [
    "cnx = mysql.connector.connect(host='localhost', user='root', password=\"root\", database='Thesis')\n",
    "cursor = cnx.cursor()\n",
    "INSERT_MAX = 1000\n",
    "dataset = \"small_wide\"\n",
    "\n",
    "with open(\"/media/matteus/Data/testing_\"+ dataset +\".csv\") as f:\n",
    "    header = True;\n",
    "    value_list = []\n",
    "    iterations = 0\n",
    "    for line in tqdm(f):\n",
    "        if header:\n",
    "            header = False\n",
    "            continue\n",
    "        data = line.split(\",\")\n",
    "        content = \"(\"\n",
    "        for i in range(len(data)):\n",
    "            if i == 0:\n",
    "                content += r'TIMESTAMP(\"' + data[i] + r'\")'\n",
    "                continue\n",
    "            elif i==1 or i==12 or i==13 or i==14 or i==18 or i==19 or i==28:\n",
    "                content += \",\" + data[i]\n",
    "                continue\n",
    "            else:\n",
    "                content += r',\"' + data[i].rstrip() + r'\"'\n",
    "        content += \")\"\n",
    "        value_list.append(content)\n",
    "        iterations += 1\n",
    "        \n",
    "        if iterations >= INSERT_MAX:\n",
    "            value_query = \"\"\n",
    "            for temp in value_list:\n",
    "                value_query += temp + \",\"\n",
    "            query = \"INSERT IGNORE INTO Thesis.\"+ dataset +\" VALUES \" + value_query[:-1] + \";\"\n",
    "            #print query\n",
    "            cursor.execute(query)     \n",
    "            cnx.commit()\n",
    "            value_list = []\n",
    "            iterations = 0\n",
    "            #print \"Query executed\"\n",
    "            \n",
    "        \"\"\"\n",
    "        if len(value_list) == 5:\n",
    "            break\n",
    "        \"\"\"\n",
    "    if len(value_list) != 0:\n",
    "        value_query = \"\"\n",
    "        for temp in value_list:\n",
    "            value_query += temp + \",\"\n",
    "        query = \"INSERT IGNORE INTO Thesis.\"+ dataset +\" VALUES \" + value_query[:-1] + \";\"\n",
    "        #print query\n",
    "        cursor.execute(query)     \n",
    "        cnx.commit()\n",
    "cursor.close()\n",
    "cnx.close()"
   ]
  },
  {
   "cell_type": "code",
   "execution_count": null,
   "metadata": {
    "collapsed": false
   },
   "outputs": [],
   "source": [
    "cnx.close()"
   ]
  },
  {
   "cell_type": "code",
   "execution_count": null,
   "metadata": {
    "collapsed": true
   },
   "outputs": [],
   "source": []
  }
 ],
 "metadata": {
  "kernelspec": {
   "display_name": "Python 2",
   "language": "python",
   "name": "python2"
  },
  "language_info": {
   "codemirror_mode": {
    "name": "ipython",
    "version": 2
   },
   "file_extension": ".py",
   "mimetype": "text/x-python",
   "name": "python",
   "nbconvert_exporter": "python",
   "pygments_lexer": "ipython2",
   "version": "2.7.13"
  }
 },
 "nbformat": 4,
 "nbformat_minor": 2
}
