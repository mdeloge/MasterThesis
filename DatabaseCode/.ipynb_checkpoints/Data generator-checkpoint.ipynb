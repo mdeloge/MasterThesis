{
 "cells": [
  {
   "cell_type": "code",
   "execution_count": 1,
   "metadata": {
    "collapsed": true
   },
   "outputs": [],
   "source": [
    "import pandas as pd\n",
    "import numpy as np\n",
    "import datetime as dt\n",
    "import random"
   ]
  },
  {
   "cell_type": "code",
   "execution_count": 2,
   "metadata": {
    "collapsed": true
   },
   "outputs": [],
   "source": [
    "size = 5000\n",
    "narrow = False\n",
    "start_time = dt.datetime(2015,1,1)"
   ]
  },
  {
   "cell_type": "code",
   "execution_count": 3,
   "metadata": {
    "collapsed": true
   },
   "outputs": [],
   "source": [
    "metadata = pd.read_csv('/home/matteus/Github/ThesisTestData/data/metadata.csv', delimiter='\\t')"
   ]
  },
  {
   "cell_type": "code",
   "execution_count": 4,
   "metadata": {
    "collapsed": false
   },
   "outputs": [
    {
     "name": "stdout",
     "output_type": "stream",
     "text": [
      "404AEB88-F5F8-436E-94F7-223EE87D8BB7\n"
     ]
    }
   ],
   "source": [
    "print metadata.get('MeterId')[0]"
   ]
  },
  {
   "cell_type": "code",
   "execution_count": 5,
   "metadata": {
    "collapsed": false
   },
   "outputs": [
    {
     "name": "stdout",
     "output_type": "stream",
     "text": [
      "data/testing_small_wide.csv\n"
     ]
    }
   ],
   "source": [
    "name = \"data/testing_\"\n",
    "if size == 5000:\n",
    "    name += \"small_\"\n",
    "elif size == 500000:\n",
    "    name += \"medium_\"\n",
    "elif size == 50000000:\n",
    "    name += \"large_\"\n",
    "\n",
    "if narrow:\n",
    "    name += \"narrow.csv\"\n",
    "else:\n",
    "    name += \"wide.csv\"\n",
    "print name"
   ]
  },
  {
   "cell_type": "code",
   "execution_count": 6,
   "metadata": {
    "collapsed": false
   },
   "outputs": [
    {
     "name": "stdout",
     "output_type": "stream",
     "text": [
      "2017-04-27 14:56:55.626567,591.189882556,404AEB88-F5F8-436E-94F7-223EE87D8BB7,Elektriciteit (nacht),electricity,kwh,EA-14106111,G07 Mykene,AttachedHouse,<1948,<2005,BE,3000,410,1,natural gas,natural gas,natural gas,1,2,Food,traditional,natural gas,no,Muntstraat , 44,g07@efika.be,G07 Mykene,G07 Mykene,1,continuous\n",
      "2017-04-27 14:56:55.626567,396.918925505,5553EC7E-D2F7-4CF0-BD2A-27CA3B95FA00,Aardgas Flukso,natural gas,l,EA-14106111,G07 Mykene,AttachedHouse,<1949,<2005,BE,3000,410,1,natural gas,natural gas,natural gas,2,3,Food,traditional,natural gas,no,Muntstraat , 44,g07@efika.be,G07 Mykene,G07 Mykene,1,continuous\n",
      "2017-04-27 14:56:55.626567,815.682014812,47DB61A1-050F-4900-A7AE-AECF2E7AF5D8,Aardgas,natural gas,cbm,EA-14106111,G07 Mykene,AttachedHouse,<1950,<2005,BE,3000,410,1,natural gas,natural gas,natural gas,3,4,Food,traditional,natural gas,no,Muntstraat , 44,g07@efika.be,G07 Mykene,G07 Mykene,1,continuous\n",
      "2017-04-27 14:56:55.626567,613.146362045,5CEC0721-2858-4BA4-B705-E53C540E1016,Elektriciteit Flukso,electricity,wh,EA-14106111,G07 Mykene,AttachedHouse,<1951,<2005,BE,3000,410,1,natural gas,natural gas,natural gas,4,5,Food,traditional,natural gas,no,Muntstraat , 44,g07@efika.be,G07 Mykene,G07 Mykene,1,continuous\n",
      "2017-04-27 14:56:55.626567,476.108427615,EE47B462-9C04-4E7E-912D-EB6F9D8E84BF,Elektriciteit (dag),electricity,kwh,EA-14106111,G07 Mykene,AttachedHouse,<1952,<2005,BE,3000,410,1,natural gas,natural gas,natural gas,5,6,Food,traditional,natural gas,no,Muntstraat , 44,g07@efika.be,G07 Mykene,G07 Mykene,1,continuous\n",
      "2017-04-27 14:56:55.626567,936.813358241,BEAE0CEE-13B4-4ACD-9185-08F4584666EE,Aardgas,natural gas,cbm,EA-14123737,Elsen,RowHouse,<1953,<2006,BE,3000,450,1,natural gas,natural gas,natural gas,8,9,Retail,traditional,none,no,Mechelsestraat 36,elsen@thinkcore.be,Elsen,Elsen,1,continuous\n",
      "2017-04-27 14:56:55.626567,780.173969862,A4B42D74-3B1B-40D7-AB31-3DAA90914F6C,Elsen_elek_2,electricity,wh,EA-14123737,Elsen,RowHouse,<1954,<2006,BE,3000,450,1,natural gas,natural gas,natural gas,6,7,Retail,traditional,none,no,Mechelsestraat 36,elsen@thinkcore.be,Elsen,Elsen,1,continuous\n",
      "2017-04-27 14:56:55.626567,219.258162774,29FD4114-4672-4CF2-8EE0-64F6ADAF9A30,ElsenGas,natural gas,l,EA-14123737,Elsen,RowHouse,<1955,<2006,BE,3000,450,1,natural gas,natural gas,natural gas,1,2,Retail,traditional,none,no,Mechelsestraat 36,elsen@thinkcore.be,Elsen,Elsen,1,continuous\n",
      "2017-04-27 14:56:55.626567,890.232925471,F56C9E29-A165-419C-979A-83033ED7AE0A,Elektriciteit (nacht),electricity,kwh,EA-14123737,Elsen,RowHouse,<1956,<2007,BE,3000,450,1,natural gas,natural gas,natural gas,22,23,Retail,traditional,none,no,Mechelsestraat 36,elsen@thinkcore.be,Elsen,Elsen,1,continuous\n",
      "2017-04-27 14:56:55.626567,30.64200606,8B381DEF-2B6E-4749-BDDE-867D3D490F2A,Elsen_elek_1,electricity,wh,EA-14123737,Elsen,RowHouse,<1957,<2007,BE,3000,450,1,natural gas,natural gas,natural gas,6,7,Retail,traditional,none,no,Mechelsestraat 36,elsen@thinkcore.be,Elsen,Elsen,1,continuous\n",
      "\n"
     ]
    }
   ],
   "source": [
    "def datapoint(sensors, timestamp, is_narrow):\n",
    "    output = \"\"\n",
    "    for i in range(sensors):\n",
    "        meterid = metadata.get('MeterId')[i*3]\n",
    "        if is_narrow:      \n",
    "            output += str(timestamp) + \",\" \\\n",
    "                    + str(random.random()*1000) + \",\" \\\n",
    "                    + metadata.get('MeterId')[i] + \"\\n\"\n",
    "        else:\n",
    "            output += str(timestamp) + \",\" \\\n",
    "                    + str(random.random()*1000) + \",\" \\\n",
    "                    + metadata.get('MeterId')[i] + \",\" \\\n",
    "                    + metadata.get('MeterName')[i] + \",\" \\\n",
    "                    + metadata.get('Type')[i] + \",\" \\\n",
    "                    + metadata.get('Unit')[i] + \",\" \\\n",
    "                    + metadata.get('RecordNumber')[i] + \",\" \\\n",
    "                    + metadata.get('RecordName')[i] + \",\" \\\n",
    "                    + metadata.get('DwellingType')[i] + \",\" \\\n",
    "                    + str(metadata.get('ConstructionYear')[i]) + \",\" \\\n",
    "                    + str(metadata.get('RenovationYear')[i]) + \",\" \\\n",
    "                    + metadata.get('Country')[i] + \",\" \\\n",
    "                    + str(metadata.get('PostalCode')[i]) + \",\" \\\n",
    "                    + str(metadata.get('FloorSurface')[i]) + \",\" \\\n",
    "                    + str(metadata.get('HouseholdSize')[i]) + \",\" \\\n",
    "                    + metadata.get('HeatingOn')[i] + \",\" \\\n",
    "                    + metadata.get('CookingOn')[i] + \",\" \\\n",
    "                    + metadata.get('HotWaterOn')[i] + \",\" \\\n",
    "                    + str(metadata.get('EnergyPerformance')[i]) + \",\" \\\n",
    "                    + str(metadata.get('EnergyRating')[i]) + \",\" \\\n",
    "                    + metadata.get('Category')[i] + \",\" \\\n",
    "                    + str(metadata.get('EnergyEfficiency')[i]) + \",\" \\\n",
    "                    + metadata.get('AuxiliaryHeatingOn')[i] + \",\" \\\n",
    "                    + metadata.get('Installations')[i] + \",\" \\\n",
    "                    + metadata.get('StreetAddress')[i] + \",\" \\\n",
    "                    + metadata.get('Email')[i] + \",\" \\\n",
    "                    + metadata.get('BusinessName')[i] + \",\" \\\n",
    "                    + metadata.get('FullName')[i] + \",\" \\\n",
    "                    + str(metadata.get('Multiplier')[i]) + \",\" \\\n",
    "                    + metadata.get('ReadingType')[i] + \"\\n\"\n",
    "        \n",
    "    return output\n",
    "\n",
    "print datapoint(10, dt.datetime.now(), narrow)"
   ]
  },
  {
   "cell_type": "code",
   "execution_count": 7,
   "metadata": {
    "collapsed": false
   },
   "outputs": [],
   "source": [
    "datafile = open(name, 'w')\n",
    "amount_of_sensors = 5\n",
    "for i in range(size/amount_of_sensors):\n",
    "    timestamp = start_time + dt.timedelta(seconds=i)\n",
    "    datafile.write(datapoint(amount_of_sensors, timestamp, narrow))\n",
    "datafile.close()"
   ]
  },
  {
   "cell_type": "code",
   "execution_count": null,
   "metadata": {
    "collapsed": true
   },
   "outputs": [],
   "source": []
  }
 ],
 "metadata": {
  "kernelspec": {
   "display_name": "Python 2",
   "language": "python",
   "name": "python2"
  },
  "language_info": {
   "codemirror_mode": {
    "name": "ipython",
    "version": 2
   },
   "file_extension": ".py",
   "mimetype": "text/x-python",
   "name": "python",
   "nbconvert_exporter": "python",
   "pygments_lexer": "ipython2",
   "version": "2.7.13"
  }
 },
 "nbformat": 4,
 "nbformat_minor": 2
}
