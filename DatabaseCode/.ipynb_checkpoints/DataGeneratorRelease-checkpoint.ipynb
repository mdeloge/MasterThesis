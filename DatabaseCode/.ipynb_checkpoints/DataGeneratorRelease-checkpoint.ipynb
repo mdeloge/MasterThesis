{
 "cells": [
  {
   "cell_type": "code",
   "execution_count": 1,
   "metadata": {
    "collapsed": false
   },
   "outputs": [],
   "source": [
    "import pandas as pd\n",
    "import numpy as np\n",
    "import datetime as dt\n",
    "import random\n",
    "from tqdm import tqdm"
   ]
  },
  {
   "cell_type": "code",
   "execution_count": 6,
   "metadata": {
    "collapsed": false
   },
   "outputs": [
    {
     "name": "stderr",
     "output_type": "stream",
     "text": [
      "100%|██████████| 500/500 [00:05<00:00, 95.00it/s] "
     ]
    },
    {
     "name": "stdout",
     "output_type": "stream",
     "text": [
      "done\n"
     ]
    },
    {
     "name": "stderr",
     "output_type": "stream",
     "text": [
      "\n"
     ]
    }
   ],
   "source": [
    "size = 5000\n",
    "narrow = False\n",
    "start_time = dt.datetime(2015,1,1)\n",
    "metadata = pd.read_csv('/home/matteus/Github/ThesisTestData/data/metadata.csv', delimiter=',')\n",
    "\n",
    "name = \"data/testing_\"\n",
    "if size == 5000:\n",
    "    name += \"small_\"\n",
    "elif size == 500000:\n",
    "    name += \"medium_\"\n",
    "elif size == 50000000:\n",
    "    name += \"large_\"\n",
    "\n",
    "if narrow:\n",
    "    name += \"narrow.csv\"\n",
    "else:\n",
    "    name += \"wide.csv\"\n",
    "\n",
    "def datapoint(sensors, timestamp, is_narrow):\n",
    "    output = \"\"\n",
    "    for index in range(sensors):\n",
    "        i = index*3\n",
    "        meterid = metadata.get('MeterId')[i]\n",
    "        if is_narrow:      \n",
    "            output += str(timestamp) + \",\" \\\n",
    "                    + str(random.random()*1000) + \",\" \\\n",
    "                    + metadata.get('MeterId')[i] + \"\\n\"\n",
    "        else:\n",
    "            output += str(timestamp) + \",\" \\\n",
    "                    + str(random.random()*1000) + \",\" \\\n",
    "                    + metadata.get('MeterId')[i] + \",\" \\\n",
    "                    + metadata.get('MeterName')[i] + \",\" \\\n",
    "                    + metadata.get('Type')[i] + \",\" \\\n",
    "                    + metadata.get('Unit')[i] + \",\" \\\n",
    "                    + metadata.get('RecordNumber')[i] + \",\" \\\n",
    "                    + metadata.get('RecordName')[i] + \",\" \\\n",
    "                    + metadata.get('DwellingType')[i] + \",\" \\\n",
    "                    + str(metadata.get('ConstructionYear')[i]) + \",\" \\\n",
    "                    + str(metadata.get('RenovationYear')[i]) + \",\" \\\n",
    "                    + metadata.get('Country')[i] + \",\" \\\n",
    "                    + str(metadata.get('PostalCode')[i]) + \",\" \\\n",
    "                    + str(metadata.get('FloorSurface')[i]) + \",\" \\\n",
    "                    + str(metadata.get('HouseholdSize')[i]) + \",\" \\\n",
    "                    + metadata.get('HeatingOn')[i] + \",\" \\\n",
    "                    + metadata.get('CookingOn')[i] + \",\" \\\n",
    "                    + metadata.get('HotWaterOn')[i] + \",\" \\\n",
    "                    + str(metadata.get('EnergyPerformance')[i]) + \",\" \\\n",
    "                    + str(metadata.get('EnergyRating')[i]) + \",\" \\\n",
    "                    + metadata.get('Category')[i] + \",\" \\\n",
    "                    + str(metadata.get('EnergyEfficiency')[i]) + \",\" \\\n",
    "                    + metadata.get('AuxiliaryHeatingOn')[i] + \",\" \\\n",
    "                    + metadata.get('Installations')[i] + \",\" \\\n",
    "                    + metadata.get('StreetAddress')[i] + \",\" \\\n",
    "                    + metadata.get('Email')[i] + \",\" \\\n",
    "                    + metadata.get('BusinessName')[i] + \",\" \\\n",
    "                    + metadata.get('FullName')[i] + \",\" \\\n",
    "                    + str(metadata.get('Multiplier')[i]) + \",\" \\\n",
    "                    + metadata.get('ReadingType')[i] + \"\\n\"\n",
    "        \n",
    "    return output\n",
    "\n",
    "datafile = open(name, 'w')\n",
    "amount_of_sensors = 10\n",
    "datafile.write('Datetime,Consumption,MeterId,MeterName,Type,Unit,RecordNumber,RecordName,DwellingType,ConstructionYear,RenovationYear,Country,PostalCode,FloorSurface,HouseholdSize,HeatingOn,CookingOn,HotWaterOn,EnergyPerformance,EnergyRating,Category,EnergyEfficiency,AuxiliaryHeatingOn,Installations,StreetAddress,Email,BusinessName,FullName,Multiplier,ReadingType')\n",
    "for i in tqdm(range(size/amount_of_sensors)):\n",
    "    timestamp = start_time + dt.timedelta(seconds=i)\n",
    "    datafile.write(datapoint(amount_of_sensors, timestamp, narrow))\n",
    "datafile.close()\n",
    "print \"done\""
   ]
  },
  {
   "cell_type": "code",
   "execution_count": 3,
   "metadata": {
    "collapsed": false
   },
   "outputs": [
    {
     "data": {
      "text/html": [
       "<div>\n",
       "<table border=\"1\" class=\"dataframe\">\n",
       "  <thead>\n",
       "    <tr style=\"text-align: right;\">\n",
       "      <th></th>\n",
       "      <th>MeterId,MeterName,Type,Unit,RecordNumber,RecordName,DwellingType,ConstructionYear,RenovationYear,Country,PostalCode,FloorSurface,HouseholdSize,HeatingOn,CookingOn,HotWaterOn,EnergyPerformance,EnergyRating,Category,EnergyEfficiency,AuxiliaryHeatingOn,Installations,StreetAddress,Email,BusinessName,FullName,Multiplier,ReadingType</th>\n",
       "    </tr>\n",
       "  </thead>\n",
       "  <tbody>\n",
       "    <tr>\n",
       "      <th>0</th>\n",
       "      <td>404AEB88-F5F8-436E-94F7-223EE87D8BB7,Elektrici...</td>\n",
       "    </tr>\n",
       "    <tr>\n",
       "      <th>1</th>\n",
       "      <td>5553EC7E-D2F7-4CF0-BD2A-27CA3B95FA00,Aardgas F...</td>\n",
       "    </tr>\n",
       "    <tr>\n",
       "      <th>2</th>\n",
       "      <td>47DB61A1-050F-4900-A7AE-AECF2E7AF5D8,Aardgas,n...</td>\n",
       "    </tr>\n",
       "    <tr>\n",
       "      <th>3</th>\n",
       "      <td>5CEC0721-2858-4BA4-B705-E53C540E1016,Elektrici...</td>\n",
       "    </tr>\n",
       "    <tr>\n",
       "      <th>4</th>\n",
       "      <td>EE47B462-9C04-4E7E-912D-EB6F9D8E84BF,Elektrici...</td>\n",
       "    </tr>\n",
       "  </tbody>\n",
       "</table>\n",
       "</div>"
      ],
      "text/plain": [
       "  MeterId,MeterName,Type,Unit,RecordNumber,RecordName,DwellingType,ConstructionYear,RenovationYear,Country,PostalCode,FloorSurface,HouseholdSize,HeatingOn,CookingOn,HotWaterOn,EnergyPerformance,EnergyRating,Category,EnergyEfficiency,AuxiliaryHeatingOn,Installations,StreetAddress,Email,BusinessName,FullName,Multiplier,ReadingType\n",
       "0  404AEB88-F5F8-436E-94F7-223EE87D8BB7,Elektrici...                                                                                                                                                                                                                                                                                      \n",
       "1  5553EC7E-D2F7-4CF0-BD2A-27CA3B95FA00,Aardgas F...                                                                                                                                                                                                                                                                                      \n",
       "2  47DB61A1-050F-4900-A7AE-AECF2E7AF5D8,Aardgas,n...                                                                                                                                                                                                                                                                                      \n",
       "3  5CEC0721-2858-4BA4-B705-E53C540E1016,Elektrici...                                                                                                                                                                                                                                                                                      \n",
       "4  EE47B462-9C04-4E7E-912D-EB6F9D8E84BF,Elektrici...                                                                                                                                                                                                                                                                                      "
      ]
     },
     "execution_count": 3,
     "metadata": {},
     "output_type": "execute_result"
    }
   ],
   "source": [
    "metadata = pd.read_csv('/home/matteus/Github/ThesisTestData/data/metadata.csv', delimiter='\\t')\n",
    "metadata.head()"
   ]
  },
  {
   "cell_type": "code",
   "execution_count": null,
   "metadata": {
    "collapsed": true
   },
   "outputs": [],
   "source": []
  }
 ],
 "metadata": {
  "kernelspec": {
   "display_name": "Python 2",
   "language": "python",
   "name": "python2"
  },
  "language_info": {
   "codemirror_mode": {
    "name": "ipython",
    "version": 2
   },
   "file_extension": ".py",
   "mimetype": "text/x-python",
   "name": "python",
   "nbconvert_exporter": "python",
   "pygments_lexer": "ipython2",
   "version": "2.7.13"
  }
 },
 "nbformat": 4,
 "nbformat_minor": 2
}
