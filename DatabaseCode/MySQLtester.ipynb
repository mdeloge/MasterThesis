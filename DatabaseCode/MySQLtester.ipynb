{
 "cells": [
  {
   "cell_type": "code",
   "execution_count": 1,
   "metadata": {
    "collapsed": false
   },
   "outputs": [],
   "source": [
    "import datetime as dt\n",
    "import mysql.connector"
   ]
  },
  {
   "cell_type": "code",
   "execution_count": 30,
   "metadata": {
    "collapsed": false
   },
   "outputs": [
    {
     "name": "stdout",
     "output_type": "stream",
     "text": [
      "Query 0 executed in 172502ms\n",
      "\n",
      "Query 1 executed in 169777ms\n",
      "\n",
      "Query 2 executed in 164921ms\n",
      "\n",
      "CPU times: user 20 ms, sys: 16 ms, total: 36 ms\n",
      "Wall time: 8min 27s\n"
     ]
    }
   ],
   "source": [
    "%%time\n",
    "for i in range(3):\n",
    "    cnx = mysql.connector.connect(user='root', password=\"root\", database='thesis_testing')\n",
    "    cursor = cnx.cursor()\n",
    "\n",
    "    query_narrow = (\"SELECT MeterId, max(Datetime) \\\n",
    "                FROM thesis_testing.testing_medium_narrow_indexed \\\n",
    "                GROUP BY MeterId \\\n",
    "                ORDER BY MeterId ASC;\")\n",
    "\n",
    "    query_wide = (\"SELECT RecordName, MeterId, Type, max(Datetime) \\\n",
    "            FROM thesis_testing.testing_medium_wide_indexed \\\n",
    "            GROUP BY RecordName, MeterId, Type \\\n",
    "            ORDER BY RecordName, Type ASC;\")\n",
    "    start = dt.datetime.now()\n",
    "    cursor.execute(query_wide)\n",
    "    end = dt.datetime.now()\n",
    "    delta = end - start\n",
    "    print \"Query \" + str(i) + \" executed in \" + str(delta.seconds*1000 + (delta.microseconds / 1000)) + \"ms\\n\"\n",
    "\n",
    "    #for i in cursor:\n",
    "        #print i\n",
    "\n",
    "    #cursor.close()\n",
    "    cnx.close()"
   ]
  },
  {
   "cell_type": "code",
   "execution_count": 9,
   "metadata": {
    "collapsed": false
   },
   "outputs": [],
   "source": [
    "import time"
   ]
  },
  {
   "cell_type": "code",
   "execution_count": null,
   "metadata": {
    "collapsed": false
   },
   "outputs": [],
   "source": [
    "for i in range(2):\n",
    "    start = dt.datetime.now()\n",
    "    time.sleep(70)\n",
    "    end = dt.datetime.now()\n",
    "    delta = end - start\n",
    "    print \"Query executed in \" + str(delta.seconds) + \"sec \" + str(delta.microseconds / 1000) + \"ms\""
   ]
  },
  {
   "cell_type": "code",
   "execution_count": null,
   "metadata": {
    "collapsed": true
   },
   "outputs": [],
   "source": []
  }
 ],
 "metadata": {
  "kernelspec": {
   "display_name": "Python 2",
   "language": "python",
   "name": "python2"
  },
  "language_info": {
   "codemirror_mode": {
    "name": "ipython",
    "version": 2
   },
   "file_extension": ".py",
   "mimetype": "text/x-python",
   "name": "python",
   "nbconvert_exporter": "python",
   "pygments_lexer": "ipython2",
   "version": "2.7.13"
  }
 },
 "nbformat": 4,
 "nbformat_minor": 2
}
