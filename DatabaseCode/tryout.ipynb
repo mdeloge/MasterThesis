{
 "cells": [
  {
   "cell_type": "code",
   "execution_count": 1,
   "metadata": {
    "collapsed": true
   },
   "outputs": [],
   "source": [
    "import pandas as pd\n",
    "import numpy as np\n",
    "import datetime as dt\n",
    "import time\n",
    "import random\n",
    "from tqdm import tqdm\n",
    "import urllib2\n",
    "import requests\n",
    "from geopy.geocoders import Nominatim\n",
    "import json "
   ]
  },
  {
   "cell_type": "code",
   "execution_count": 2,
   "metadata": {
    "collapsed": true
   },
   "outputs": [],
   "source": [
    "darksky_key = 'd7ac916fc413d1657f252522d9563059'\n",
    "base_url = 'https://api.darksky.net/forecast/c08fb197b592238160e4dc828ada0522/'\n",
    "address = 'Muntstraat 10 Leuven'\n",
    "\n",
    "def url_builder(start_date):\n",
    "    geolocator = Nominatim()\n",
    "    location = geolocator.geocode(address)\n",
    "    latitude = location.latitude\n",
    "    longitude = location.longitude\n",
    "    url_list = []\n",
    "    today = dt.date.today()\n",
    "    delta = today - start_date\n",
    "    for counter in range(delta.days):\n",
    "        timestamp = str(time.mktime((start_date + dt.timedelta(days=counter)).timetuple()))[:-2]\n",
    "        full_url = base_url + str(latitude) + ',' + str(longitude) + ',' + timestamp\n",
    "        url_list.append(full_url)\n",
    "    return url_list"
   ]
  },
  {
   "cell_type": "code",
   "execution_count": 3,
   "metadata": {
    "collapsed": false
   },
   "outputs": [
    {
     "data": {
      "text/plain": [
       "['https://api.darksky.net/forecast/c08fb197b592238160e4dc828ada0522/50.8782678,4.7015134,1492639200',\n",
       " 'https://api.darksky.net/forecast/c08fb197b592238160e4dc828ada0522/50.8782678,4.7015134,1492725600',\n",
       " 'https://api.darksky.net/forecast/c08fb197b592238160e4dc828ada0522/50.8782678,4.7015134,1492812000',\n",
       " 'https://api.darksky.net/forecast/c08fb197b592238160e4dc828ada0522/50.8782678,4.7015134,1492898400',\n",
       " 'https://api.darksky.net/forecast/c08fb197b592238160e4dc828ada0522/50.8782678,4.7015134,1492984800',\n",
       " 'https://api.darksky.net/forecast/c08fb197b592238160e4dc828ada0522/50.8782678,4.7015134,1493071200',\n",
       " 'https://api.darksky.net/forecast/c08fb197b592238160e4dc828ada0522/50.8782678,4.7015134,1493157600',\n",
       " 'https://api.darksky.net/forecast/c08fb197b592238160e4dc828ada0522/50.8782678,4.7015134,1493244000',\n",
       " 'https://api.darksky.net/forecast/c08fb197b592238160e4dc828ada0522/50.8782678,4.7015134,1493330400',\n",
       " 'https://api.darksky.net/forecast/c08fb197b592238160e4dc828ada0522/50.8782678,4.7015134,1493416800',\n",
       " 'https://api.darksky.net/forecast/c08fb197b592238160e4dc828ada0522/50.8782678,4.7015134,1493503200',\n",
       " 'https://api.darksky.net/forecast/c08fb197b592238160e4dc828ada0522/50.8782678,4.7015134,1493589600',\n",
       " 'https://api.darksky.net/forecast/c08fb197b592238160e4dc828ada0522/50.8782678,4.7015134,1493676000',\n",
       " 'https://api.darksky.net/forecast/c08fb197b592238160e4dc828ada0522/50.8782678,4.7015134,1493762400',\n",
       " 'https://api.darksky.net/forecast/c08fb197b592238160e4dc828ada0522/50.8782678,4.7015134,1493848800',\n",
       " 'https://api.darksky.net/forecast/c08fb197b592238160e4dc828ada0522/50.8782678,4.7015134,1493935200',\n",
       " 'https://api.darksky.net/forecast/c08fb197b592238160e4dc828ada0522/50.8782678,4.7015134,1494021600',\n",
       " 'https://api.darksky.net/forecast/c08fb197b592238160e4dc828ada0522/50.8782678,4.7015134,1494108000']"
      ]
     },
     "execution_count": 3,
     "metadata": {},
     "output_type": "execute_result"
    }
   ],
   "source": [
    "ls = url_builder(dt.date(2017,4,20))\n",
    "ls"
   ]
  },
  {
   "cell_type": "code",
   "execution_count": 5,
   "metadata": {
    "collapsed": false
   },
   "outputs": [
    {
     "data": {
      "text/plain": [
       "'1492639200'"
      ]
     },
     "execution_count": 5,
     "metadata": {},
     "output_type": "execute_result"
    }
   ],
   "source": [
    "test = 'https://api.darksky.net/forecast/c08fb197b592238160e4dc828ada0522/50.8782678,4.7015134,1492639200'\n",
    "splitted = test.split(',')\n",
    "splitted[2]"
   ]
  },
  {
   "cell_type": "code",
   "execution_count": null,
   "metadata": {
    "collapsed": true
   },
   "outputs": [],
   "source": []
  }
 ],
 "metadata": {
  "kernelspec": {
   "display_name": "Python 2",
   "language": "python",
   "name": "python2"
  },
  "language_info": {
   "codemirror_mode": {
    "name": "ipython",
    "version": 2
   },
   "file_extension": ".py",
   "mimetype": "text/x-python",
   "name": "python",
   "nbconvert_exporter": "python",
   "pygments_lexer": "ipython2",
   "version": "2.7.13"
  }
 },
 "nbformat": 4,
 "nbformat_minor": 2
}
