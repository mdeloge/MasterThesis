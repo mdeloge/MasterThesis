{
 "cells": [
  {
   "cell_type": "code",
   "execution_count": 8,
   "metadata": {
    "collapsed": true
   },
   "outputs": [],
   "source": [
    "import pandas as pd\n",
    "import numpy as np\n",
    "import datetime as dt\n",
    "import random"
   ]
  },
  {
   "cell_type": "code",
   "execution_count": 9,
   "metadata": {
    "collapsed": true
   },
   "outputs": [],
   "source": [
    "size = 5000\n",
    "narrow = False\n",
    "start_time = dt.datetime(2015,1,1)"
   ]
  },
  {
   "cell_type": "code",
   "execution_count": 10,
   "metadata": {
    "collapsed": true
   },
   "outputs": [],
   "source": [
    "metadata = pd.read_csv('/home/matteus/Github/ThesisTestData/data/metadata.csv', delimiter='\\t')"
   ]
  },
  {
   "cell_type": "code",
   "execution_count": 11,
   "metadata": {
    "collapsed": false
   },
   "outputs": [
    {
     "name": "stdout",
     "output_type": "stream",
     "text": [
      "404AEB88-F5F8-436E-94F7-223EE87D8BB7\n"
     ]
    }
   ],
   "source": [
    "print metadata.get('MeterId')[0]"
   ]
  },
  {
   "cell_type": "code",
   "execution_count": 12,
   "metadata": {
    "collapsed": false
   },
   "outputs": [
    {
     "name": "stdout",
     "output_type": "stream",
     "text": [
      "data/testing_small_wide.csv\n"
     ]
    }
   ],
   "source": [
    "name = \"data/testing_\"\n",
    "if size == 5000:\n",
    "    name += \"small_\"\n",
    "elif size == 500000:\n",
    "    name += \"medium_\"\n",
    "elif size == 50000000:\n",
    "    name += \"large_\"\n",
    "\n",
    "if narrow:\n",
    "    name += \"narrow.csv\"\n",
    "else:\n",
    "    name += \"wide.csv\"\n",
    "print name"
   ]
  },
  {
   "cell_type": "code",
   "execution_count": 16,
   "metadata": {
    "collapsed": false
   },
   "outputs": [],
   "source": [
    "def datapoint(sensors, timestamp, is_narrow):\n",
    "    output = \"\"\n",
    "    for index in range(sensors):\n",
    "        i = index*3\n",
    "        meterid = metadata.get('MeterId')[i]\n",
    "        if is_narrow:      \n",
    "            output += str(timestamp) + \",\" \\\n",
    "                    + str(random.random()*1000) + \",\" \\\n",
    "                    + metadata.get('MeterId')[i] + \"\\n\"\n",
    "        else:\n",
    "            output += str(timestamp) + \",\" \\\n",
    "                    + str(random.random()*1000) + \",\" \\\n",
    "                    + metadata.get('MeterId')[i] + \",\" \\\n",
    "                    + metadata.get('MeterName')[i] + \",\" \\\n",
    "                    + metadata.get('Type')[i] + \",\" \\\n",
    "                    + metadata.get('Unit')[i] + \",\" \\\n",
    "                    + metadata.get('RecordNumber')[i] + \",\" \\\n",
    "                    + metadata.get('RecordName')[i] + \",\" \\\n",
    "                    + metadata.get('DwellingType')[i] + \",\" \\\n",
    "                    + str(metadata.get('ConstructionYear')[i]) + \",\" \\\n",
    "                    + str(metadata.get('RenovationYear')[i]) + \",\" \\\n",
    "                    + metadata.get('Country')[i] + \",\" \\\n",
    "                    + str(metadata.get('PostalCode')[i]) + \",\" \\\n",
    "                    + str(metadata.get('FloorSurface')[i]) + \",\" \\\n",
    "                    + str(metadata.get('HouseholdSize')[i]) + \",\" \\\n",
    "                    + metadata.get('HeatingOn')[i] + \",\" \\\n",
    "                    + metadata.get('CookingOn')[i] + \",\" \\\n",
    "                    + metadata.get('HotWaterOn')[i] + \",\" \\\n",
    "                    + str(metadata.get('EnergyPerformance')[i]) + \",\" \\\n",
    "                    + str(metadata.get('EnergyRating')[i]) + \",\" \\\n",
    "                    + metadata.get('Category')[i] + \",\" \\\n",
    "                    + str(metadata.get('EnergyEfficiency')[i]) + \",\" \\\n",
    "                    + metadata.get('AuxiliaryHeatingOn')[i] + \",\" \\\n",
    "                    + metadata.get('Installations')[i] + \",\" \\\n",
    "                    + metadata.get('StreetAddress')[i] + \",\" \\\n",
    "                    + metadata.get('Email')[i] + \",\" \\\n",
    "                    + metadata.get('BusinessName')[i] + \",\" \\\n",
    "                    + metadata.get('FullName')[i] + \",\" \\\n",
    "                    + str(metadata.get('Multiplier')[i]) + \",\" \\\n",
    "                    + metadata.get('ReadingType')[i] + \"\\n\"\n",
    "        \n",
    "    return output\n",
    "\n",
    "#print datapoint(10, dt.datetime.now(), narrow)"
   ]
  },
  {
   "cell_type": "code",
   "execution_count": 18,
   "metadata": {
    "collapsed": false
   },
   "outputs": [],
   "source": [
    "datafile = open(name, 'w')\n",
    "amount_of_sensors = 10\n",
    "for i in range(size/amount_of_sensors):\n",
    "    timestamp = start_time + dt.timedelta(seconds=i)\n",
    "    datafile.write(datapoint(amount_of_sensors, timestamp, narrow))\n",
    "datafile.close()"
   ]
  },
  {
   "cell_type": "code",
   "execution_count": null,
   "metadata": {
    "collapsed": true
   },
   "outputs": [],
   "source": []
  }
 ],
 "metadata": {
  "kernelspec": {
   "display_name": "Python 2",
   "language": "python",
   "name": "python2"
  },
  "language_info": {
   "codemirror_mode": {
    "name": "ipython",
    "version": 2
   },
   "file_extension": ".py",
   "mimetype": "text/x-python",
   "name": "python",
   "nbconvert_exporter": "python",
   "pygments_lexer": "ipython2",
   "version": "2.7.13"
  }
 },
 "nbformat": 4,
 "nbformat_minor": 2
}
