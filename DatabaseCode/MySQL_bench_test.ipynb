{
 "cells": [
  {
   "cell_type": "code",
   "execution_count": 1,
   "metadata": {
    "collapsed": true
   },
   "outputs": [],
   "source": [
    "import datetime as dt\n",
    "import mysql.connector"
   ]
  },
  {
   "cell_type": "code",
   "execution_count": 9,
   "metadata": {
    "collapsed": false
   },
   "outputs": [
    {
     "name": "stdout",
     "output_type": "stream",
     "text": [
      "Query 1 executed in 17ms\n",
      "17625µs\n",
      "Query 2 executed in 12ms\n",
      "12167µs\n",
      "Query 3 executed in 13ms\n",
      "13168µs\n",
      "Query 4 executed in 6ms\n",
      "6217µs\n",
      "Query 5 executed in 14ms\n",
      "14174µs\n",
      "Total time:\t62ms\n",
      "Avg time:\t12ms\n",
      "CPU times: user 16 ms, sys: 4 ms, total: 20 ms\n",
      "Wall time: 87.3 ms\n"
     ]
    }
   ],
   "source": [
    "%%time\n",
    "total_millis = 0\n",
    "testing_amount = 5\n",
    "dataset = \"small\"\n",
    "\n",
    "\n",
    "for i in range(testing_amount):\n",
    "    cnx = mysql.connector.connect(user='root', password=\"root\", database='thesis')\n",
    "    cursor = cnx.cursor()\n",
    "\n",
    "    query_narrow = (\"SELECT MeterId, max(Datetime) \\\n",
    "                FROM thesis.\" + dataset + \"_narrow \\\n",
    "                GROUP BY MeterId \\\n",
    "                ORDER BY MeterId ASC;\")\n",
    "\n",
    "    query_wide = (\"SELECT RecordName, MeterId, Type, max(Datetime) \\\n",
    "            FROM thesis.\" + dataset + \"_wide \\\n",
    "            GROUP BY RecordName, MeterId, Type \\\n",
    "            ORDER BY RecordName, Type ASC;\")\n",
    "    start = dt.datetime.now()\n",
    "    cursor.execute(query_narrow)\n",
    "    end = dt.datetime.now()\n",
    "    delta = end - start\n",
    "    \n",
    "    total_millis += delta.seconds*1000 + (delta.microseconds / 1000)\n",
    "    print \"Query \" + str(i+1) + \" executed in \" + str(delta.seconds*1000 + (delta.microseconds / 1000)) + \"ms\"\n",
    "    print str(delta.microseconds) + \"µs\"\n",
    "\n",
    "    #for i in cursor:\n",
    "        #print i\n",
    "\n",
    "    #cursor.close()\n",
    "    cnx.close()\n",
    "\n",
    "print \"Total time:\\t\" + str(total_millis) + \"ms\"\n",
    "print \"Avg time:\\t\" + str(total_millis/testing_amount) + \"ms\""
   ]
  },
  {
   "cell_type": "code",
   "execution_count": 19,
   "metadata": {
    "collapsed": true
   },
   "outputs": [],
   "source": [
    "cnx.close()"
   ]
  },
  {
   "cell_type": "code",
   "execution_count": 10,
   "metadata": {
    "collapsed": false
   },
   "outputs": [
    {
     "name": "stdout",
     "output_type": "stream",
     "text": [
      "Query 1 executed in 11353ms\n",
      "353862µs\n",
      "Query 2 executed in 11582ms\n",
      "582739µs\n",
      "Query 3 executed in 11615ms\n",
      "615984µs\n",
      "Query 4 executed in 11258ms\n",
      "258140µs\n",
      "Query 5 executed in 11234ms\n",
      "234984µs\n",
      "Total time:\t57042ms\n",
      "Avg time:\t11408ms\n",
      "CPU times: user 28 ms, sys: 8 ms, total: 36 ms\n",
      "Wall time: 57.1 s\n"
     ]
    }
   ],
   "source": [
    "%%time\n",
    "total_millis = 0\n",
    "testing_amount = 5\n",
    "dataset = \"large\"\n",
    "\n",
    "\n",
    "for i in range(testing_amount):\n",
    "    cnx = mysql.connector.connect(user='root', password=\"root\", database='thesis')\n",
    "    cursor = cnx.cursor()\n",
    "\n",
    "    query_wide = ('SELECT RecordName, Type, Unit, StreetAddress, SUM(Consumption) AS Total_Consumption \\\n",
    "                    FROM thesis.'+ dataset +'_wide \\\n",
    "                    WHERE StreetAddress LIKE \"%Zwart%\" \\\n",
    "                    AND Datetime > TIMESTAMP(\"2015-01-01 00:00:00\") \\\n",
    "                    AND Datetime < TIMESTAMP(\"2015-01-08 00:00:00\") \\\n",
    "                    GROUP BY RecordName, Type, Unit, StreetAddress;')\n",
    "    start = dt.datetime.now()\n",
    "    cursor.execute(query_wide)\n",
    "    end = dt.datetime.now()\n",
    "    delta = end - start\n",
    "    \n",
    "    total_millis += delta.seconds*1000 + (delta.microseconds / 1000)\n",
    "    print \"Query \" + str(i+1) + \" executed in \" + str(delta.seconds*1000 + (delta.microseconds / 1000)) + \"ms\"\n",
    "    print str(delta.microseconds) + \"µs\"\n",
    "\n",
    "    #for i in cursor:\n",
    "        #print i\n",
    "\n",
    "    #cursor.close()\n",
    "    cnx.close()\n",
    "\n",
    "print \"Total time:\\t\" + str(total_millis) + \"ms\"\n",
    "print \"Avg time:\\t\" + str(total_millis/testing_amount) + \"ms\""
   ]
  },
  {
   "cell_type": "code",
   "execution_count": null,
   "metadata": {
    "collapsed": true
   },
   "outputs": [],
   "source": []
  }
 ],
 "metadata": {
  "kernelspec": {
   "display_name": "Python 2",
   "language": "python",
   "name": "python2"
  },
  "language_info": {
   "codemirror_mode": {
    "name": "ipython",
    "version": 2
   },
   "file_extension": ".py",
   "mimetype": "text/x-python",
   "name": "python",
   "nbconvert_exporter": "python",
   "pygments_lexer": "ipython2",
   "version": "2.7.13"
  }
 },
 "nbformat": 4,
 "nbformat_minor": 2
}
